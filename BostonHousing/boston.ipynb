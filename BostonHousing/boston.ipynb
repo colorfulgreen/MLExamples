{
 "cells": [
  {
   "cell_type": "markdown",
   "metadata": {},
   "source": [
    "```\n",
    "RIM 城镇人均犯罪率\n",
    "ZN 占地面积超过 25,000 平方英尺的住宅用地比例\n",
    "INDUS 每个城镇非零售业务的比例\n",
    "CHAS Charles River 虚拟变量(如果是河道，则为 1；否则为 0)\n",
    "NOX 一氧化氮浓度(每千万份)\n",
    "RM 每间住宅的平均房间数\n",
    "AGE 1940 年以前建造的自住单位比例\n",
    "DIS 加权距离波士顿的五个就业中心\n",
    "RAD 径向高速公路的可达性指数\n",
    "TAX 每 10,000 美元的全额物业税率\n",
    "PTRATIO 城镇的学生与教师比例\n",
    "B 1000 (Bk-0.63)^2 其中 Bk 是城镇黑人的比例\n",
    "LSTAT 人口状况下降%\n",
    "MEDV 自有住房的中位数报价，单位 1000 美元\n",
    "```"
   ]
  },
  {
   "cell_type": "code",
   "execution_count": 38,
   "metadata": {},
   "outputs": [],
   "source": [
    "import pandas as pd\n",
    "from sklearn import datasets\n",
    "from sklearn.model_selection import train_test_split\n",
    "from sklearn.linear_model import LinearRegression\n",
    "import seaborn as sns"
   ]
  },
  {
   "cell_type": "code",
   "execution_count": 7,
   "metadata": {},
   "outputs": [],
   "source": [
    "boston = datasets.load_boston()"
   ]
  },
  {
   "cell_type": "code",
   "execution_count": 465,
   "metadata": {},
   "outputs": [
    {
     "data": {
      "text/html": [
       "<div>\n",
       "<style scoped>\n",
       "    .dataframe tbody tr th:only-of-type {\n",
       "        vertical-align: middle;\n",
       "    }\n",
       "\n",
       "    .dataframe tbody tr th {\n",
       "        vertical-align: top;\n",
       "    }\n",
       "\n",
       "    .dataframe thead th {\n",
       "        text-align: right;\n",
       "    }\n",
       "</style>\n",
       "<table border=\"1\" class=\"dataframe\">\n",
       "  <thead>\n",
       "    <tr style=\"text-align: right;\">\n",
       "      <th></th>\n",
       "      <th>CRIM</th>\n",
       "      <th>ZN</th>\n",
       "      <th>INDUS</th>\n",
       "      <th>CHAS</th>\n",
       "      <th>NOX</th>\n",
       "      <th>RM</th>\n",
       "      <th>AGE</th>\n",
       "      <th>DIS</th>\n",
       "      <th>RAD</th>\n",
       "      <th>TAX</th>\n",
       "      <th>PTRATIO</th>\n",
       "      <th>B</th>\n",
       "      <th>LSTAT</th>\n",
       "    </tr>\n",
       "  </thead>\n",
       "  <tbody>\n",
       "    <tr>\n",
       "      <th>0</th>\n",
       "      <td>0.00632</td>\n",
       "      <td>18.0</td>\n",
       "      <td>2.31</td>\n",
       "      <td>0.0</td>\n",
       "      <td>0.538</td>\n",
       "      <td>6.575</td>\n",
       "      <td>65.2</td>\n",
       "      <td>4.0900</td>\n",
       "      <td>1.0</td>\n",
       "      <td>296.0</td>\n",
       "      <td>15.3</td>\n",
       "      <td>396.90</td>\n",
       "      <td>4.98</td>\n",
       "    </tr>\n",
       "    <tr>\n",
       "      <th>1</th>\n",
       "      <td>0.02731</td>\n",
       "      <td>0.0</td>\n",
       "      <td>7.07</td>\n",
       "      <td>0.0</td>\n",
       "      <td>0.469</td>\n",
       "      <td>6.421</td>\n",
       "      <td>78.9</td>\n",
       "      <td>4.9671</td>\n",
       "      <td>2.0</td>\n",
       "      <td>242.0</td>\n",
       "      <td>17.8</td>\n",
       "      <td>396.90</td>\n",
       "      <td>9.14</td>\n",
       "    </tr>\n",
       "    <tr>\n",
       "      <th>2</th>\n",
       "      <td>0.02729</td>\n",
       "      <td>0.0</td>\n",
       "      <td>7.07</td>\n",
       "      <td>0.0</td>\n",
       "      <td>0.469</td>\n",
       "      <td>7.185</td>\n",
       "      <td>61.1</td>\n",
       "      <td>4.9671</td>\n",
       "      <td>2.0</td>\n",
       "      <td>242.0</td>\n",
       "      <td>17.8</td>\n",
       "      <td>392.83</td>\n",
       "      <td>4.03</td>\n",
       "    </tr>\n",
       "  </tbody>\n",
       "</table>\n",
       "</div>"
      ],
      "text/plain": [
       "      CRIM    ZN  INDUS  CHAS    NOX     RM   AGE     DIS  RAD    TAX  \\\n",
       "0  0.00632  18.0   2.31   0.0  0.538  6.575  65.2  4.0900  1.0  296.0   \n",
       "1  0.02731   0.0   7.07   0.0  0.469  6.421  78.9  4.9671  2.0  242.0   \n",
       "2  0.02729   0.0   7.07   0.0  0.469  7.185  61.1  4.9671  2.0  242.0   \n",
       "\n",
       "   PTRATIO       B  LSTAT  \n",
       "0     15.3  396.90   4.98  \n",
       "1     17.8  396.90   9.14  \n",
       "2     17.8  392.83   4.03  "
      ]
     },
     "execution_count": 465,
     "metadata": {},
     "output_type": "execute_result"
    }
   ],
   "source": [
    "from sklearn import datasets\n",
    "y = boston['target']\n",
    "X = pd.DataFrame(data=boston['data'], columns=boston['feature_names'])\n",
    "X[:3]"
   ]
  },
  {
   "cell_type": "code",
   "execution_count": 424,
   "metadata": {},
   "outputs": [
    {
     "name": "stdout",
     "output_type": "stream",
     "text": [
      "选取主成分个数=6 累积方差贡献率=0.8578876032275043\n"
     ]
    }
   ],
   "source": [
    "def principal_component_analysis(X, contrib_threshold=0.75):\n",
    "    '''主成分分析'''\n",
    "    n_principals = -1\n",
    "    \n",
    "    # 将样本标准化处理\n",
    "    X_norm = (X - X.mean()) / X.std()\n",
    "    # 计算样本协方差矩阵\n",
    "    X_corr = (X_norm.T @ X_norm) / (X_norm.shape[0]-1)\n",
    "    # 协方差矩阵的特征值分解\n",
    "    feat_value, feat_vec = np.linalg.eig(X_corr)\n",
    "    \n",
    "    # 选取主成分个数：取前6个特征，可使累积方差贡献率超过 85%\n",
    "    sum_feat_value = sum(feat_value)\n",
    "    arg_index = np.argsort(featValue)\n",
    "    accum_contrib = []\n",
    "    accum = 0\n",
    "    for i in range(-1,-14,-1):\n",
    "        accum += featValue[arg_index[i]]\n",
    "        accum_contrib.append(accum / sum_feat_value)\n",
    "        if n_principals == -1 and accum / sum_feat_value >= contrib_threshold:\n",
    "            n_principals = -i\n",
    "            print('选取主成分个数={} 累积方差贡献率={}'.format(\n",
    "                   n_principals, accum / sum_feat_value))\n",
    "    \n",
    "    # 样本进行正交变换\n",
    "    M = pd.DataFrame(feat_vec)\n",
    "    X_trans = M @ (X_norm.to_numpy().T)\n",
    "    return n_principals, accum_contrib, arg_index, X_trans.T, M\n",
    "n_principals, accum_contrib, arg_index, X_trans, M = principal_component_analysis(\n",
    "            X, contrib_threshold=0.85)"
   ]
  },
  {
   "cell_type": "code",
   "execution_count": 423,
   "metadata": {},
   "outputs": [],
   "source": [
    "def linear_regression(X_train, y_train):\n",
    "    '''使用最小二乘法建立线性回归模型'''\n",
    "    linreg = LinearRegression()\n",
    "    linreg.fit(X_train, y_train)\n",
    "    print('估计独立项：', linreg.intercept_)\n",
    "    print('估计系数', linreg.coef_)\n",
    "    return linreg\n",
    "\n",
    "def linear_regression2(X_train, y_train):\n",
    "    X_train = X_train.copy()\n",
    "    X_train.insert(0, 'ones', 1)\n",
    "    beta = np.linalg.inv(X_train.T @ X_train) @ X_train.T @ y_train\n",
    "    return beta"
   ]
  },
  {
   "cell_type": "code",
   "execution_count": 425,
   "metadata": {},
   "outputs": [
    {
     "name": "stdout",
     "output_type": "stream",
     "text": [
      "选取主成分个数=6 累积方差贡献率=0.8578876032275043\n",
      "估计独立项： 22.62325960685469\n",
      "估计系数 [ 3.78196814  3.70971566  2.10593225 -2.65573611  1.06234712 -3.64574835]\n",
      "手算的估计系数： [22.6232596068547, 3.781968141245958, 3.709715662293321, 2.105932252170091, -2.65573610909668, 1.0623471199193601, -3.645748350718738]\n",
      "训练集上的拟合优度： 0.5856598462994655\n",
      "测试集上的拟合优度： 0.4923510891595909\n",
      "\n"
     ]
    }
   ],
   "source": [
    "for contrib_threshold in (0.85,):\n",
    "    n_principals, accum_contrib, arg_index, X_trans, M = principal_component_analysis(X, contrib_threshold)\n",
    "    X_train, X_valid, y_train, y_valid = train_test_split(X_trans,y,\n",
    "                                                      test_size=0.25,\n",
    "                                                      random_state=33)\n",
    "    X_train_slice = X_train.iloc[:, arg_index[-1:-n_principals-1:-1]]\n",
    "    linreg = linear_regression(X_train_slice, y_train)\n",
    "    print('手算的估计系数：', list(linear_regression2(X_train_slice, y_train)))\n",
    "    print('训练集上的拟合优度：', linreg.score(X_train.iloc[:, arg_index[-1:-n_principals-1:-1]], y_train))\n",
    "    print('测试集上的拟合优度：', linreg.score(X_valid.iloc[:, arg_index[-1:-n_principals-1:-1]], y_valid))\n",
    "    print()"
   ]
  },
  {
   "cell_type": "code",
   "execution_count": 438,
   "metadata": {},
   "outputs": [
    {
     "name": "stdout",
     "output_type": "stream",
     "text": [
      "                            OLS Regression Results                            \n",
      "==============================================================================\n",
      "Dep. Variable:                      y   R-squared:                       0.741\n",
      "Model:                            OLS   Adj. R-squared:                  0.734\n",
      "Method:                 Least Squares   F-statistic:                     108.1\n",
      "Date:                Mon, 28 Dec 2020   Prob (F-statistic):          6.72e-135\n",
      "Time:                        13:44:56   Log-Likelihood:                -1498.8\n",
      "No. Observations:                 506   AIC:                             3026.\n",
      "Df Residuals:                     492   BIC:                             3085.\n",
      "Df Model:                          13                                         \n",
      "Covariance Type:            nonrobust                                         \n",
      "==============================================================================\n",
      "                 coef    std err          t      P>|t|      [0.025      0.975]\n",
      "------------------------------------------------------------------------------\n",
      "Const         36.4595      5.103      7.144      0.000      26.432      46.487\n",
      "CRIM          -0.1080      0.033     -3.287      0.001      -0.173      -0.043\n",
      "ZN             0.0464      0.014      3.382      0.001       0.019       0.073\n",
      "INDUS          0.0206      0.061      0.334      0.738      -0.100       0.141\n",
      "CHAS           2.6867      0.862      3.118      0.002       0.994       4.380\n",
      "NOX          -17.7666      3.820     -4.651      0.000     -25.272     -10.262\n",
      "RM             3.8099      0.418      9.116      0.000       2.989       4.631\n",
      "AGE            0.0007      0.013      0.052      0.958      -0.025       0.027\n",
      "DIS           -1.4756      0.199     -7.398      0.000      -1.867      -1.084\n",
      "RAD            0.3060      0.066      4.613      0.000       0.176       0.436\n",
      "TAX           -0.0123      0.004     -3.280      0.001      -0.020      -0.005\n",
      "PTRATIO       -0.9527      0.131     -7.283      0.000      -1.210      -0.696\n",
      "B              0.0093      0.003      3.467      0.001       0.004       0.015\n",
      "LSTAT         -0.5248      0.051    -10.347      0.000      -0.624      -0.425\n",
      "==============================================================================\n",
      "Omnibus:                      178.041   Durbin-Watson:                   1.078\n",
      "Prob(Omnibus):                  0.000   Jarque-Bera (JB):              783.126\n",
      "Skew:                           1.521   Prob(JB):                    8.84e-171\n",
      "Kurtosis:                       8.281   Cond. No.                     1.51e+04\n",
      "==============================================================================\n",
      "\n",
      "Notes:\n",
      "[1] Standard Errors assume that the covariance matrix of the errors is correctly specified.\n",
      "[2] The condition number is large, 1.51e+04. This might indicate that there are\n",
      "strong multicollinearity or other numerical problems.\n"
     ]
    }
   ],
   "source": [
    "X_extend = X.copy()\n",
    "X_extend.insert(0,'Const',1)\n",
    "est = sm.OLS(y, X_extend)\n",
    "est2 = est.fit()\n",
    "print(est2.summary())"
   ]
  },
  {
   "cell_type": "code",
   "execution_count": 455,
   "metadata": {},
   "outputs": [
    {
     "name": "stdout",
     "output_type": "stream",
     "text": [
      "                            OLS Regression Results                            \n",
      "==============================================================================\n",
      "Dep. Variable:                      y   R-squared:                       0.715\n",
      "Model:                            OLS   Adj. R-squared:                  0.712\n",
      "Method:                 Least Squares   F-statistic:                     209.0\n",
      "Date:                Mon, 28 Dec 2020   Prob (F-statistic):          1.11e-132\n",
      "Time:                        13:56:40   Log-Likelihood:                -1522.3\n",
      "No. Observations:                 506   AIC:                             3059.\n",
      "Df Residuals:                     499   BIC:                             3088.\n",
      "Df Model:                           6                                         \n",
      "Covariance Type:            nonrobust                                         \n",
      "==============================================================================\n",
      "                 coef    std err          t      P>|t|      [0.025      0.975]\n",
      "------------------------------------------------------------------------------\n",
      "Const         30.5170      4.960      6.153      0.000      20.773      40.261\n",
      "NOX          -15.8424      3.279     -4.832      0.000     -22.285      -9.400\n",
      "RM             4.3548      0.411     10.602      0.000       3.548       5.162\n",
      "DIS           -1.1596      0.167     -6.960      0.000      -1.487      -0.832\n",
      "PTRATIO       -1.0121      0.113     -8.988      0.000      -1.233      -0.791\n",
      "B              0.0096      0.003      3.578      0.000       0.004       0.015\n",
      "LSTAT         -0.5455      0.048    -11.267      0.000      -0.641      -0.450\n",
      "==============================================================================\n",
      "Omnibus:                      201.666   Durbin-Watson:                   0.974\n",
      "Prob(Omnibus):                  0.000   Jarque-Bera (JB):             1060.765\n",
      "Skew:                           1.680   Prob(JB):                    4.55e-231\n",
      "Kurtosis:                       9.246   Cond. No.                     9.03e+03\n",
      "==============================================================================\n",
      "\n",
      "Notes:\n",
      "[1] Standard Errors assume that the covariance matrix of the errors is correctly specified.\n",
      "[2] The condition number is large, 9.03e+03. This might indicate that there are\n",
      "strong multicollinearity or other numerical problems.\n"
     ]
    }
   ],
   "source": [
    "X_extend2 = X.copy()\n",
    "X_extend2.insert(0,'Const',1)\n",
    "X_extend2 = X_extend2.drop(['INDUS', 'AGE', 'CHAS', 'CRIM', 'ZN', 'TAX', 'RAD'], axis=1)\n",
    "est = sm.OLS(y, X_extend2)\n",
    "est2 = est.fit()\n",
    "print(est2.summary())"
   ]
  },
  {
   "cell_type": "code",
   "execution_count": null,
   "metadata": {},
   "outputs": [],
   "source": []
  }
 ],
 "metadata": {
  "kernelspec": {
   "display_name": "Python 3",
   "language": "python",
   "name": "python3"
  },
  "language_info": {
   "codemirror_mode": {
    "name": "ipython",
    "version": 3
   },
   "file_extension": ".py",
   "mimetype": "text/x-python",
   "name": "python",
   "nbconvert_exporter": "python",
   "pygments_lexer": "ipython3",
   "version": "3.8.5"
  }
 },
 "nbformat": 4,
 "nbformat_minor": 4
}
